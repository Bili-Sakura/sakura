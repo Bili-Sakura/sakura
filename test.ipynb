{
 "cells": [
  {
   "cell_type": "code",
   "execution_count": 11,
   "metadata": {},
   "outputs": [
    {
     "name": "stdout",
     "output_type": "stream",
     "text": [
      "挑战目标： 速魔光铥头\n",
      "世界配置： 永春|极少资源\n",
      "角色： 植物人\n"
     ]
    }
   ],
   "source": [
    "import random\n",
    "\n",
    "# 目标列表\n",
    "goals = [\n",
    "    \"速魔光铥头\",\n",
    "    \"速犀牛\",\n",
    "    \"速疯猪\",\n",
    "    \"速犀牛疯猪\"\n",
    "]\n",
    "\n",
    "# 世界配置选项\n",
    "world_options = [\n",
    "    [\"极短四季\", \"永春\", \"永冬\"],\n",
    "    [\"永夜\", \"永雨\", \"永夜永雨\"],\n",
    "    [\"疯狂影怪\"],\n",
    "    [\"极少资源\"]\n",
    "]\n",
    "\n",
    "# 角色列表\n",
    "characters = {\n",
    "    \"Easy\": [\"老麦\", \"奶奶\", \"大力士\", \"女武神\"],\n",
    "    \"Normal\": [\"威尔逊\",\"火女\", \"伍迪\", \"机器人\",\"薇诺娜\",\"温蒂\",\"厨师\",\"蜘蛛人\",\"鱼人\",\"小恶魔\",\"旺达\",\"植物人\"],\n",
    "    \"Hell\": [\"维斯\", \"沃尔特\"]\n",
    "}\n",
    "\n",
    "# 随机选择挑战目标\n",
    "goal = random.choice(goals)\n",
    "\n",
    "# 随机选择世界配置\n",
    "world_config = []\n",
    "while not world_config:\n",
    "    for options in world_options:\n",
    "        if random.random() < 0.5:\n",
    "            option = random.choice(options)\n",
    "            world_config.append(option)\n",
    "\n",
    "# 随机选择角色\n",
    "character_difficulty = random.choice(list(characters.keys()))\n",
    "character = random.choice(characters[character_difficulty])\n",
    "formatted_world_config = \"|\".join(world_config)\n",
    "# 打印挑战组合\n",
    "print(\"挑战目标：\", goal)\n",
    "print(\"世界配置：\", formatted_world_config)\n",
    "print(\"角色：\", character)\n",
    "# print(\"难度等级：\", character_difficulty)"
   ]
  },
  {
   "cell_type": "code",
   "execution_count": null,
   "metadata": {},
   "outputs": [],
   "source": []
  }
 ],
 "metadata": {
  "kernelspec": {
   "display_name": "Python 3.10.8 64-bit",
   "language": "python",
   "name": "python3"
  },
  "language_info": {
   "codemirror_mode": {
    "name": "ipython",
    "version": 3
   },
   "file_extension": ".py",
   "mimetype": "text/x-python",
   "name": "python",
   "nbconvert_exporter": "python",
   "pygments_lexer": "ipython3",
   "version": "3.10.8"
  },
  "orig_nbformat": 4,
  "vscode": {
   "interpreter": {
    "hash": "3196968d684371006099b3d55edeef8ed90365227a30deaef86e5d4aa8519be0"
   }
  }
 },
 "nbformat": 4,
 "nbformat_minor": 2
}
